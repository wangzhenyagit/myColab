{
  "cells": [
  {
   "attachments": {},
   "cell_type": "markdown",
   "metadata": {},
   "source": [
    "<a href=\"https://colab.research.google.com/github/microsoft/autogen/blob/main/notebook/agentchat_RetrieveChat.ipynb\" target=\"_parent\"><img src=\"https://colab.research.google.com/assets/colab-badge.svg\" alt=\"Open In Colab\"/></a>"
   ]
  },
    {
      "cell_type": "code",
      "source": [
        "!pip install pyautogen\n",
        "\n",
        "import autogen\n",
        "\n",
        "config_list = autogen.config_list_from_json(\n",
        "    \"OAI_CONFIG_LIST\",\n",
        "    filter_dict={\n",
        "        \"model\": [\"gpt-4\"],\n",
        "    },\n",
        ")\n",
        "\n",
        "from typing import Dict, Union\n",
        "from IPython import get_ipython\n",
        "\n",
        "class IPythonUserProxyAgent(autogen.UserProxyAgent):\n",
        "    def __init__(self, name: str, **kwargs):\n",
        "        super().__init__(name, **kwargs)\n",
        "        self._ipython = get_ipython()\n",
        "\n",
        "    def generate_init_message(self, *args, **kwargs) -> Union[str, Dict]:\n",
        "        return super().generate_init_message(*args, **kwargs) + \"\"\"\n",
        "If you suggest code, the code will be executed in IPython.\"\"\"\n",
        "\n",
        "    def run_code(self, code, **kwargs):\n",
        "        result = self._ipython.run_cell(\"%%capture --no-display cap\\n\" + code)\n",
        "        log = self._ipython.ev(\"cap.stdout\")\n",
        "        log += self._ipython.ev(\"cap.stderr\")\n",
        "        if result.result is not None:\n",
        "            log += str(result.result)\n",
        "        exitcode = 0 if result.success else 1\n",
        "        if result.error_before_exec is not None:\n",
        "            log += f\"\\n{result.error_before_exec}\"\n",
        "            exitcode = 1\n",
        "        if result.error_in_exec is not None:\n",
        "            log += f\"\\n{result.error_in_exec}\"\n",
        "            exitcode = 1\n",
        "        return exitcode, log, None\n",
        "\n",
        "\n",
        "# create an AssistantAgent named \"assistant\"\n",
        "assistant = autogen.AssistantAgent(\n",
        "    name=\"assistant\",\n",
        "    llm_config={\n",
        "        \"seed\": 42,  # seed for caching and reproducibility\n",
        "        \"config_list\": config_list,  # a list of OpenAI API configurations\n",
        "        \"temperature\": 0,  # temperature for sampling\n",
        "    },  # configuration for autogen's enhanced inference API which is compatible with OpenAI API\n",
        ")\n",
        "\n",
        "ipy_user = IPythonUserProxyAgent(\n",
        "    \"ipython_user_proxy\",\n",
        "    human_input_mode=\"NEVER\",\n",
        "    max_consecutive_auto_reply=10,\n",
        "    is_termination_msg=lambda x: x.get(\"content\", \"\").rstrip().endswith(\"TERMINATE\") or x.get(\"content\", \"\").rstrip().endswith('\"TERMINATE\".'),\n",
        ")\n",
        "# the assistant receives a message from the user, which contains the task description\n",
        "ipy_user.initiate_chat(\n",
        "    assistant,\n",
        "    message=\"\"\"Plot a chart of META and TESLA stock price gain YTD\"\"\",\n",
        ")"
      ],
      "metadata": {
        "id": "Wl2SUPi4N7Rg"
      },
      "execution_count": null,
      "outputs": []
    }
  ],
  "metadata": {
    "kernelspec": {
      "display_name": "Python 3",
      "language": "python",
      "name": "python3"
    },
    "language_info": {
      "codemirror_mode": {
        "name": "ipython",
        "version": 3
      },
      "file_extension": ".py",
      "mimetype": "text/x-python",
      "name": "python",
      "nbconvert_exporter": "python",
      "pygments_lexer": "ipython3",
      "version": "3.9.17"
    },
    "vscode": {
      "interpreter": {
        "hash": "949777d72b0d2535278d3dc13498b2535136f6dfe0678499012e853ee9abcab1"
      }
    },
    "colab": {
      "provenance": []
    }
  },
  "nbformat": 4,
  "nbformat_minor": 0
}
