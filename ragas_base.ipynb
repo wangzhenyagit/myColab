<a href="https://colab.research.google.com/github/wangzhenyagit/myColab/blob/main/ragas_base.ipynb" target="_parent"><img src="https://colab.research.google.com/assets/colab-badge.svg" alt="Open In Colab"/></a>

!pip install ragas

